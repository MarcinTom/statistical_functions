{
 "cells": [
  {
   "cell_type": "code",
   "execution_count": 3,
   "id": "early-dietary",
   "metadata": {},
   "outputs": [],
   "source": [
    "import pandas as pd\n",
    "import numpy as np\n",
    "import statsmodels.api as sm\n",
    "import matplotlib.pyplot as plt\n",
    "#Ploting the coefficient for recalculated OLS equation using jackknife resampling (removing consecutive 4 periods from the data)\n",
    "#X_train - macro variables training sample ,y_train - dependent variable training sample, result - Statsmodels OLS results sm.OLS(y_train,X_train).fit()\n",
    "def jackknife(X_train,y_train, result):\n",
    "    X= X_train.copy()\n",
    "    y=y_train.copy()\n",
    "    step=0\n",
    "    test={}\n",
    "    coefs=pd.DataFrame(columns=X.columns)\n",
    "    for i in range(len(y)):\n",
    "        index=list(X[i+step:i+4+step].index)\n",
    "        if len(index)==4:\n",
    "            X_train=X.drop(index)\n",
    "            y_train=y.drop(index)\n",
    "            result= sm.OLS(y_train,X_train).fit()\n",
    "            for t in range(len(result.params)):\n",
    "                test.update({X.columns[t]:[result.params[t]]})\n",
    "                test3=pd.DataFrame.from_dict(test)\n",
    "            coefs=coefs.append(test3)\n",
    "        else:\n",
    "            break\n",
    "    coefs.index=list(n for n in range(len(coefs)))\n",
    "    for i in coefs.columns:\n",
    "        plt.plot(coefs[i])\n",
    "        plt.axhline(y=0,linewidth=1, color='r',ls='--')\n",
    "        plt.title(i)\n",
    "        plt.show()\n",
    "    return"
   ]
  },
  {
   "cell_type": "code",
   "execution_count": 4,
   "id": "latin-hindu",
   "metadata": {},
   "outputs": [],
   "source": [
    "def jackknife_raw(X_train,y_train, result):\n",
    "    X= X_train.copy()\n",
    "    y=y_train.copy()\n",
    "    step=0\n",
    "    test={}\n",
    "    coefs=pd.DataFrame(columns=X.columns)\n",
    "    for i in range(len(y)):\n",
    "        index=list(X[i+step:i+4+step].index)\n",
    "        if len(index)==4:\n",
    "            X_train=X.drop(index)\n",
    "            y_train=y.drop(index)\n",
    "            result= sm.OLS(y_train,X_train).fit()\n",
    "            for t in range(len(result.params)):\n",
    "                test.update({X.columns[t]:[result.params[t]]})\n",
    "                test3=pd.DataFrame.from_dict(test)\n",
    "            coefs=coefs.append(test3)\n",
    "        else:\n",
    "            break\n",
    "    coefs.index=list(n for n in range(len(coefs)))\n",
    "    coefs=coefs.drop('const',axis=1)\n",
    "    for i in coefs:\n",
    "        zero_crossings = np.where(np.diff(np.signbit(coefs[i])))[0]\n",
    "    return len(zero_crossings)==0"
   ]
  },
  {
   "cell_type": "code",
   "execution_count": null,
   "id": "brave-organ",
   "metadata": {},
   "outputs": [],
   "source": []
  }
 ],
 "metadata": {
  "kernelspec": {
   "display_name": "conda_python3",
   "language": "python",
   "name": "conda_python3"
  },
  "language_info": {
   "codemirror_mode": {
    "name": "ipython",
    "version": 3
   },
   "file_extension": ".py",
   "mimetype": "text/x-python",
   "name": "python",
   "nbconvert_exporter": "python",
   "pygments_lexer": "ipython3",
   "version": "3.6.10"
  }
 },
 "nbformat": 4,
 "nbformat_minor": 5
}
